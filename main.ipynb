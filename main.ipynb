{
 "cells": [
  {
   "cell_type": "markdown",
   "id": "b4876725",
   "metadata": {},
   "source": [
    "# Shranjevanje podatkov s spletne strani v datoteke"
   ]
  },
  {
   "cell_type": "code",
   "execution_count": null,
   "id": "97a1754d",
   "metadata": {},
   "outputs": [
    {
     "name": "stdout",
     "output_type": "stream",
     "text": [
      "SlovenianNationals2025 shranjeno\n",
      "SlovenianNationals2024 shranjeno\n",
      "SlovenianNationals2023 shranjeno\n",
      "SlovenianNationals2022 shranjeno\n",
      "SlovenianNationals2019 shranjeno\n"
     ]
    }
   ],
   "source": [
    "import requests\n",
    "import json\n",
    "# pridobitev datoteke s seznamom vseh slovenskih tekmovanj s pomočjo unofficial api-ja: https://github.com/robiningelbrecht/wca-rest-api\n",
    "# navodila za uporabo api-ja: https://wca-rest-api.robiningelbrecht.be/\n",
    "# shranjevanje te datoteke lokalno, da ni treba pri vsakem zagonu kode pošiljati requestov\n",
    "slovenian_competitions = requests.get(\"https://raw.githubusercontent.com/robiningelbrecht/wca-rest-api/master/api/competitions/SI.json\").json()\n",
    "with open(\"Datoteke/slovenian_competitions.json\", \"w\") as file:\n",
    "\tjson.dump(slovenian_competitions, file)\n",
    "# filter ven samo national tekmovanja\n",
    "# za vsako tekmovanje klic z api-jem za rezultate tega tekmovanja\n",
    "# shranjevanje rezultatov tekomavanja lokalno\n",
    "for competition in slovenian_competitions[\"items\"]:\n",
    "\tif competition[\"name\"].startswith(\"Slovenian Nationals\"):\n",
    "\t\tcompetition_id = competition[\"id\"]\n",
    "\t\tresults_file_url = f\"Datoteke/{competition_id}.json\"\t\t\n",
    "\t\tresults_url = f\"https://raw.githubusercontent.com/robiningelbrecht/wca-rest-api/master/api/results/{competition_id}.json\"\n",
    "\t\tresults = requests.get(results_url)\n",
    "\t\tif results.status_code == 200 or results.status_code == 304:\n",
    "\t\t\twith open(results_file_url, \"w\") as file:\n",
    "\t\t\t\tjson.dump(results.json(), file)\n",
    "\t\t\t\tprint(f\"{competition_id} shranjeno\")"
   ]
  },
  {
   "cell_type": "markdown",
   "id": "a34f83ce",
   "metadata": {},
   "source": [
    "# Shranjevanje rezultatov posameznega tekmovanja v slovar"
   ]
  },
  {
   "cell_type": "code",
   "execution_count": 16,
   "id": "8d01ca88",
   "metadata": {},
   "outputs": [],
   "source": [
    "import os\n",
    "# odpiranje datoteke s tekmovanji\n",
    "with open(\"Datoteke/slovenian_competitions.json\", \"r\") as file:\n",
    "\tslovenian_competitions = json.load(file)\n",
    "# ustvarjanje slovarja z rezultati tekmovanja\n",
    "slovenian_competitions_results = {}\n",
    "for competition in slovenian_competitions[\"items\"]:\n",
    "\t# filtriranje ven samo national tekmovanj\n",
    "\tif competition[\"name\"].startswith(\"Slovenian Nationals\"):\n",
    "\t\tcompetition_id = competition[\"id\"]\n",
    "\t\tresults_file_url = f\"Datoteke/{competition_id}.json\"\n",
    "\t\t# preverimo če datoteka sploh obstaja\n",
    "\t\tif os.path.exists(results_file_url):\n",
    "\t\t\twith open(results_file_url) as file:\n",
    "\t\t\t\tresults = json.load(file)\n",
    "\t\t\t\tslovenian_competitions_results.update({competition_id: results[\"items\"]})"
   ]
  },
  {
   "cell_type": "markdown",
   "id": "1a591378",
   "metadata": {},
   "source": [
    "# Obdelava podatkov"
   ]
  },
  {
   "cell_type": "code",
   "execution_count": 17,
   "id": "ef4937ee",
   "metadata": {},
   "outputs": [
    {
     "name": "stdout",
     "output_type": "stream",
     "text": [
      "125\n",
      "121\n",
      "115\n",
      "78\n",
      "52\n"
     ]
    }
   ],
   "source": [
    "#\n",
    "for competition_id in slovenian_competitions_results:\n",
    "\t# rezultati tekmovanja shranjuje vsako disciplino in vsak krog, da se izognem ponavljanju oseb, naredim iz podatkov množico namesto seznama\n",
    "\tcompetitor_ids = set()\n",
    "\tcompetition_result = slovenian_competitions_results[competition_id]\n",
    "\tfor competitor in competition_result:\n",
    "\t\tcompetitor_ids.add(competitor[\"personId\"])\n",
    "\t\tnumber_of_competitors = len(competitor_ids)\n",
    "\tprint(number_of_competitors)"
   ]
  }
 ],
 "metadata": {
  "kernelspec": {
   "display_name": "venv",
   "language": "python",
   "name": "python3"
  },
  "language_info": {
   "codemirror_mode": {
    "name": "ipython",
    "version": 3
   },
   "file_extension": ".py",
   "mimetype": "text/x-python",
   "name": "python",
   "nbconvert_exporter": "python",
   "pygments_lexer": "ipython3",
   "version": "3.9.0"
  }
 },
 "nbformat": 4,
 "nbformat_minor": 5
}
